{
 "cells": [
  {
   "cell_type": "code",
   "execution_count": 1,
   "id": "abb5a058-75d7-46e4-b8f0-96259127727a",
   "metadata": {
    "id": "6ca1b52a-f5c9-40ef-a4b2-7cdf7d1db752"
   },
   "outputs": [],
   "source": [
    "import pandas as pd\n",
    "import numpy as np\n",
    "import matplotlib.pyplot as plt\n",
    "import seaborn as sns\n",
    "import nltk\n",
    "from nltk.sentiment.vader import SentimentIntensityAnalyzer\n",
    "import time\n",
    "import pathlib\n",
    "\n",
    "from datetime import datetime, time\n",
    "from sklearn.feature_extraction.text import TfidfVectorizer\n",
    "from sklearn.metrics.pairwise import cosine_similarity\n",
    "from nltk.tokenize import word_tokenize\n",
    "from nltk.corpus import stopwords\n",
    "import string\n",
    "from ipywidgets import IntProgress\n",
    "from IPython.display import display\n",
    "import time\n"
   ]
  },
  {
   "cell_type": "code",
   "execution_count": 2,
   "id": "f5d17910-27b8-4834-917e-b404e278372f",
   "metadata": {},
   "outputs": [],
   "source": [
    "max_count_progress = 100"
   ]
  },
  {
   "cell_type": "code",
   "execution_count": 3,
   "id": "a7e6a7c1-cb2b-49d6-88fc-c546a44d09c9",
   "metadata": {},
   "outputs": [
    {
     "name": "stderr",
     "output_type": "stream",
     "text": [
      "[nltk_data] Downloading package punkt to /home/cyto/nltk_data...\n",
      "[nltk_data]   Package punkt is already up-to-date!\n",
      "[nltk_data] Downloading package vader_lexicon to\n",
      "[nltk_data]     /home/cyto/nltk_data...\n",
      "[nltk_data]   Package vader_lexicon is already up-to-date!\n"
     ]
    },
    {
     "data": {
      "text/plain": [
       "True"
      ]
     },
     "execution_count": 3,
     "metadata": {},
     "output_type": "execute_result"
    }
   ],
   "source": [
    "# Download necessary NLTK data\n",
    "nltk.download('punkt')\n",
    "nltk.download('vader_lexicon')"
   ]
  },
  {
   "cell_type": "code",
   "execution_count": 4,
   "id": "dbda4388-ee40-4ebe-a176-faf46775a2f4",
   "metadata": {},
   "outputs": [],
   "source": [
    "BASE_DIR = pathlib.Path().cwd()"
   ]
  },
  {
   "cell_type": "code",
   "execution_count": 6,
   "id": "a7afd581-fcc7-42d6-b137-e155dc36d7da",
   "metadata": {},
   "outputs": [],
   "source": [
    "df = pd.read_csv('base_table.csv', parse_dates= ['call_start_datetime', 'agent_assigned_datetime', 'call_end_datetime'])"
   ]
  },
  {
   "cell_type": "code",
   "execution_count": 7,
   "id": "ab51967d-94f3-46eb-909c-999563e4b926",
   "metadata": {},
   "outputs": [
    {
     "data": {
      "text/plain": [
       "Text(0.5, 1.0, 'AST v/s Elite Level Code')"
      ]
     },
     "execution_count": 7,
     "metadata": {},
     "output_type": "execute_result"
    },
    {
     "data": {
      "image/png": "[encoded data removed]",
      "text/plain": [
       "<Figure size 640x480 with 1 Axes>"
      ]
     },
     "metadata": {},
     "output_type": "display_data"
    }
   ],
   "source": [
    "average_ast = df.groupby('elite_level_code')['speed_to_answer'].mean().reset_index()\n",
    "plt.bar(average_ast['elite_level_code'], average_ast['speed_to_answer'], color='skyblue')\n",
    "plt.title(\"AST v/s Elite Level Code\")"
   ]
  },
  {
   "cell_type": "code",
   "execution_count": 23,
   "id": "30051ec2-35b8-4222-a8ea-302feabb5573",
   "metadata": {},
   "outputs": [
    {
     "data": {
      "text/html": [
       "<div>\n",
       "<style scoped>\n",
       "    .dataframe tbody tr th:only-of-type {\n",
       "        vertical-align: middle;\n",
       "    }\n",
       "\n",
       "    .dataframe tbody tr th {\n",
       "        vertical-align: top;\n",
       "    }\n",
       "\n",
       "    .dataframe thead th {\n",
       "        text-align: right;\n",
       "    }\n",
       "</style>\n",
       "<table border=\"1\" class=\"dataframe\">\n",
       "  <thead>\n",
       "    <tr style=\"text-align: right;\">\n",
       "      <th></th>\n",
       "      <th>handle_time</th>\n",
       "      <th>speed_to_answer</th>\n",
       "      <th>elite_level_code</th>\n",
       "      <th>silence_percent_average</th>\n",
       "      <th>agent_tone</th>\n",
       "      <th>customer_tone</th>\n",
       "    </tr>\n",
       "  </thead>\n",
       "  <tbody>\n",
       "    <tr>\n",
       "      <th>handle_time</th>\n",
       "      <td>1.000000</td>\n",
       "      <td>0.165169</td>\n",
       "      <td>0.034904</td>\n",
       "      <td>0.399125</td>\n",
       "      <td>0.021407</td>\n",
       "      <td>0.000251</td>\n",
       "    </tr>\n",
       "    <tr>\n",
       "      <th>speed_to_answer</th>\n",
       "      <td>0.165169</td>\n",
       "      <td>1.000000</td>\n",
       "      <td>-0.043335</td>\n",
       "      <td>-0.012068</td>\n",
       "      <td>-0.034015</td>\n",
       "      <td>-0.000728</td>\n",
       "    </tr>\n",
       "    <tr>\n",
       "      <th>elite_level_code</th>\n",
       "      <td>0.034904</td>\n",
       "      <td>-0.043335</td>\n",
       "      <td>1.000000</td>\n",
       "      <td>-0.010261</td>\n",
       "      <td>-0.006949</td>\n",
       "      <td>-0.002757</td>\n",
       "    </tr>\n",
       "    <tr>\n",
       "      <th>silence_percent_average</th>\n",
       "      <td>0.399125</td>\n",
       "      <td>-0.012068</td>\n",
       "      <td>-0.010261</td>\n",
       "      <td>1.000000</td>\n",
       "      <td>-0.043926</td>\n",
       "      <td>0.000716</td>\n",
       "    </tr>\n",
       "    <tr>\n",
       "      <th>agent_tone</th>\n",
       "      <td>0.021407</td>\n",
       "      <td>-0.034015</td>\n",
       "      <td>-0.006949</td>\n",
       "      <td>-0.043926</td>\n",
       "      <td>1.000000</td>\n",
       "      <td>0.002284</td>\n",
       "    </tr>\n",
       "    <tr>\n",
       "      <th>customer_tone</th>\n",
       "      <td>0.000251</td>\n",
       "      <td>-0.000728</td>\n",
       "      <td>-0.002757</td>\n",
       "      <td>0.000716</td>\n",
       "      <td>0.002284</td>\n",
       "      <td>1.000000</td>\n",
       "    </tr>\n",
       "  </tbody>\n",
       "</table>\n",
       "</div>"
      ],
      "text/plain": [
       "                         handle_time  speed_to_answer  elite_level_code  \\\n",
       "handle_time                 1.000000         0.165169          0.034904   \n",
       "speed_to_answer             0.165169         1.000000         -0.043335   \n",
       "elite_level_code            0.034904        -0.043335          1.000000   \n",
       "silence_percent_average     0.399125        -0.012068         -0.010261   \n",
       "agent_tone                  0.021407        -0.034015         -0.006949   \n",
       "customer_tone               0.000251        -0.000728         -0.002757   \n",
       "\n",
       "                         silence_percent_average  agent_tone  customer_tone  \n",
       "handle_time                             0.399125    0.021407       0.000251  \n",
       "speed_to_answer                        -0.012068   -0.034015      -0.000728  \n",
       "elite_level_code                       -0.010261   -0.006949      -0.002757  \n",
       "silence_percent_average                 1.000000   -0.043926       0.000716  \n",
       "agent_tone                             -0.043926    1.000000       0.002284  \n",
       "customer_tone                           0.000716    0.002284       1.000000  "
      ]
     },
     "execution_count": 23,
     "metadata": {},
     "output_type": "execute_result"
    }
   ],
   "source": [
    "# now calculate the correlation matrix\n",
    "correlation_matrix = df_labelencoded[['handle_time', 'speed_to_answer', 'elite_level_code', 'silence_percent_average', 'agent_tone', 'customer_tone']].corr()\n",
    "\n",
    "correlation_matrix"
   ]
  },
  {
   "cell_type": "markdown",
   "id": "65ec98d2-2e30-4f39-88ce-f50206a805e2",
   "metadata": {},
   "source": [
    "# Elite Status Code\n",
    "\n",
    "## Observations\n",
    "In the above Graph and Correlation matrix, we can clearly see that - <br>\n",
    "- As elite level increases, silence should go down at least with some slope, but it barely goes down\n",
    "- the AST time is not going down sufficiently for elite members\n",
    "- the AHT time is also not going down - instead it rises\n",
    "\n",
    "\n",
    "## Sugggestions\n",
    "- United Airline Agents must be alerted when a registered phone number of an elite member calls and\n",
    "      thus priority response must be given to reduce AST\n",
    "- Agents must also be screened on handling the problems as quickly as possible for Elite Members\n",
    "- The calmest Agents - ie, Agents with the least agent_tone score must be assigned for Elite Members (refer agent_tone_analysis.ipynb)"
   ]
  },
  {
   "cell_type": "code",
   "execution_count": 80,
   "id": "e2da5607-abe3-48a9-aca9-cd98c3eea98c",
   "metadata": {},
   "outputs": [
    {
     "name": "stderr",
     "output_type": "stream",
     "text": [
      "[nltk_data] Downloading package punkt_tab to /home/cyto/nltk_data...\n",
      "[nltk_data]   Package punkt_tab is already up-to-date!\n",
      "[nltk_data] Downloading package stopwords to /home/cyto/nltk_data...\n",
      "[nltk_data]   Package stopwords is already up-to-date!\n"
     ]
    },
    {
     "name": "stdout",
     "output_type": "stream",
     "text": [
      "Processing Transcripts: 100.00% completeTotal number of words in all transcripts: 35951751\n",
      "Word frequency count:\n",
      "[('flight', 629838), ('agent', 554444), ('customer', 545636), ('let', 301864), ('change', 245470), ('im', 237889), ('help', 200997), ('like', 194031), ('thank', 184714), ('would', 176120), ('united', 171993), ('calling', 159962), ('get', 156275), ('typing', 145689), ('next', 142014), ('okay', 138219), ('work', 134041), ('day', 132394), ('take', 131403), ('youre', 128607), ('need', 126264), ('yeah', 122941), ('really', 119975), ('time', 119508), ('thanks', 119487), ('know', 118796), ('chicago', 115015), ('one', 114165), ('call', 113217), ('looks', 112484), ('please', 107511), ('today', 106985), ('look', 106961), ('could', 102295), ('see', 100099), ('fee', 97703), ('reservation', 97645), ('make', 96256), ('travel', 94347), ('good', 93838), ('booked', 92608), ('new', 90384), ('name', 89990), ('airlines', 89222), ('anything', 86991), ('check', 85308), ('understand', 83499), ('problem', 80119), ('go', 79390), ('rest', 77917), ('better', 76209), ('well', 75843), ('confirmation', 74367), ('ahead', 74054), ('welcome', 73436), ('number', 72598), ('may', 71133), ('pull', 70535), ('hi', 68207), ('much', 67222), ('got', 66814), ('ive', 66674), ('earlier', 65844), ('ill', 65181), ('umm', 64033), ('appreciate', 62788), ('since', 61260), ('date', 61068), ('options', 58946), ('flights', 56929), ('noises', 55302), ('thats', 54781), ('else', 54477), ('way', 54175), ('trip', 53537), ('flying', 53525), ('la', 53477), ('last', 52273), ('schedule', 50497), ('service', 49624), ('available', 49518), ('delay', 48823), ('right', 48768), ('back', 48024), ('alright', 47775), ('week', 47526), ('details', 47328), ('meeting', 46985), ('issues', 46698), ('sure', 46166), ('instead', 46053), ('still', 45442), ('wednesday', 45366), ('sounds', 45088), ('hours', 45076), ('dont', 45025), ('unfortunately', 44252), ('delays', 43960), ('original', 42998), ('happy', 42635)]\n"
     ]
    }
   ],
   "source": [
    "# Initialize a list to hold all words\n",
    "all_words = []\n",
    "\n",
    "# Define a function to preprocess and tokenize the transcripts\n",
    "def preprocess_transcript(transcript):\n",
    "    # Convert to lowercase\n",
    "    transcript = transcript.lower()\n",
    "    # Remove punctuation\n",
    "    transcript = transcript.translate(str.maketrans('', '', string.punctuation))\n",
    "    # Tokenize the transcript\n",
    "    tokens = word_tokenize(transcript)\n",
    "    return tokens\n",
    "\n",
    "# Process each transcript in the DataFrame\n",
    "total_transcripts = len(df_labelencoded['call_transcript'])\n",
    "for i, transcript in enumerate(df_labelencoded['call_transcript']):\n",
    "    tokens = preprocess_transcript(transcript)\n",
    "    all_words.extend(tokens)\n",
    "    \n",
    "    # Print progress\n",
    "    progress_percentage = (i + 1) / total_transcripts * 100\n",
    "    print(f'\\rProcessing Transcripts: {progress_percentage:.2f}% complete', end='')\n",
    "\n",
    "# Count the total number of words\n",
    "total_words = len(all_words)\n",
    "\n",
    "# Remove stop words for more relevant word counts\n",
    "stop_words = set(stopwords.words('english'))\n",
    "filtered_words = [word for word in all_words if word not in stop_words]\n",
    "\n",
    "# Count the frequency of each word\n",
    "word_freq = nltk.FreqDist(filtered_words)\n",
    "\n",
    "# Display results\n",
    "print(f'Total number of words in all transcripts: {total_words}')\n",
    "print(f'Word frequency count:\\n{word_freq.most_common(100)}')  # Display the 10 most common words"
   ]
  },
  {
   "cell_type": "code",
   "execution_count": 81,
   "id": "3b0d1891-bf5a-4cc5-9ffc-c83ae90e9f17",
   "metadata": {},
   "outputs": [
    {
     "name": "stdout",
     "output_type": "stream",
     "text": [
      "Total number of unique words (excluding stop words): 51083\n"
     ]
    }
   ],
   "source": [
    "unique_words_count = len(word_freq)\n",
    "print(f'Total number of unique words (excluding stop words): {unique_words_count}')"
   ]
  }
 ],
 "metadata": {
  "colab": {
   "provenance": []
  },
  "kernelspec": {
   "display_name": "Python 3 (ipykernel)",
   "language": "python",
   "name": "python3"
  },
  "language_info": {
   "codemirror_mode": {
    "name": "ipython",
    "version": 3
   },
   "file_extension": ".py",
   "mimetype": "text/x-python",
   "name": "python",
   "nbconvert_exporter": "python",
   "pygments_lexer": "ipython3",
   "version": "3.12.3"
  }
 },
 "nbformat": 4,
 "nbformat_minor": 5
}
