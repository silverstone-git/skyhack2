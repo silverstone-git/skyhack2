{
 "cells": [
  {
   "cell_type": "code",
   "execution_count": 41,
   "id": "a00f0c0f-e3e5-42d6-9f13-356615d25c71",
   "metadata": {},
   "outputs": [],
   "source": [
    "import pandas as pd\n",
    "import numpy as np\n",
    "import matplotlib.pyplot as plt\n",
    "import seaborn as sns\n",
    "import nltk\n",
    "import re\n",
    "from nltk.corpus import stopwords\n",
    "from nltk.tokenize import word_tokenize\n",
    "from collections import Counter\n",
    "import string\n",
    "from tqdm import tqdm\n",
    "from collections import Counter\n",
    "from sklearn.model_selection import train_test_split\n",
    "from sklearn.linear_model import LogisticRegression\n",
    "from sklearn.metrics import accuracy_score, classification_report\n",
    "from sklearn.model_selection import train_test_split, GridSearchCV\n",
    "from sklearn.preprocessing import StandardScaler"
   ]
  },
  {
   "cell_type": "code",
   "execution_count": 4,
   "id": "957a77ca-04f1-4c1c-9a45-ad590c8766fc",
   "metadata": {
    "scrolled": true
   },
   "outputs": [],
   "source": [
    "df_calls = pd.read_csv('calls.csv')\n",
    "df_test = pd.read_csv('test.csv')\n",
    "\n",
    "join_column = 'call_id'\n",
    "\n",
    "df1 = pd.merge(df_calls, df_test, on=join_column, how='right')"
   ]
  },
  {
   "cell_type": "code",
   "execution_count": 5,
   "id": "5836b36d-170c-4d9b-966e-c1db17e7410f",
   "metadata": {},
   "outputs": [
    {
     "data": {
      "text/html": [
       "<div>\n",
       "<style scoped>\n",
       "    .dataframe tbody tr th:only-of-type {\n",
       "        vertical-align: middle;\n",
       "    }\n",
       "\n",
       "    .dataframe tbody tr th {\n",
       "        vertical-align: top;\n",
       "    }\n",
       "\n",
       "    .dataframe thead th {\n",
       "        text-align: right;\n",
       "    }\n",
       "</style>\n",
       "<table border=\"1\" class=\"dataframe\">\n",
       "  <thead>\n",
       "    <tr style=\"text-align: right;\">\n",
       "      <th></th>\n",
       "      <th>call_id</th>\n",
       "      <th>call_transcript</th>\n",
       "    </tr>\n",
       "  </thead>\n",
       "  <tbody>\n",
       "    <tr>\n",
       "      <th>0</th>\n",
       "      <td>7732610078</td>\n",
       "      <td>\\n\\nAgent: Thank you for calling United Airlin...</td>\n",
       "    </tr>\n",
       "    <tr>\n",
       "      <th>1</th>\n",
       "      <td>2400299738</td>\n",
       "      <td>\\n\\nAgent: Thank you for calling United Airlin...</td>\n",
       "    </tr>\n",
       "    <tr>\n",
       "      <th>2</th>\n",
       "      <td>6533095063</td>\n",
       "      <td>\\n\\nAgent: Thank you for calling United Airlin...</td>\n",
       "    </tr>\n",
       "    <tr>\n",
       "      <th>3</th>\n",
       "      <td>7774450920</td>\n",
       "      <td>\\n\\nAgent: Thank you for calling United Airlin...</td>\n",
       "    </tr>\n",
       "    <tr>\n",
       "      <th>4</th>\n",
       "      <td>9214147168</td>\n",
       "      <td>\\n\\nAgent: Thank you for calling United Airlin...</td>\n",
       "    </tr>\n",
       "  </tbody>\n",
       "</table>\n",
       "</div>"
      ],
      "text/plain": [
       "      call_id                                    call_transcript\n",
       "0  7732610078  \\n\\nAgent: Thank you for calling United Airlin...\n",
       "1  2400299738  \\n\\nAgent: Thank you for calling United Airlin...\n",
       "2  6533095063  \\n\\nAgent: Thank you for calling United Airlin...\n",
       "3  7774450920  \\n\\nAgent: Thank you for calling United Airlin...\n",
       "4  9214147168  \\n\\nAgent: Thank you for calling United Airlin..."
      ]
     },
     "execution_count": 5,
     "metadata": {},
     "output_type": "execute_result"
    }
   ],
   "source": [
    "columns_to_keep = ['call_id', 'call_transcript']  \n",
    "\n",
    "test_df = df1[columns_to_keep]\n",
    "\n",
    "test_df.head()"
   ]
  },
  {
   "cell_type": "code",
   "execution_count": 6,
   "id": "ccb8f307-ab7f-45df-824f-9ad75d24ad62",
   "metadata": {},
   "outputs": [
    {
     "data": {
      "text/plain": [
       "(5157, 2)"
      ]
     },
     "execution_count": 6,
     "metadata": {},
     "output_type": "execute_result"
    }
   ],
   "source": [
    "test_df.shape"
   ]
  },
  {
   "cell_type": "code",
   "execution_count": 7,
   "id": "6f79f4a3-3bd2-4fc1-9554-a7787afce5a3",
   "metadata": {},
   "outputs": [],
   "source": [
    "df_reason = pd.read_csv('reason.csv')\n",
    "\n",
    "join_column = 'call_id'\n",
    "\n",
    "df2 = pd.merge(df_reason, df_calls, on=join_column, how='left')"
   ]
  },
  {
   "cell_type": "code",
   "execution_count": 8,
   "id": "c5ee62df-4cf5-426d-a465-815dd420846a",
   "metadata": {},
   "outputs": [
    {
     "data": {
      "text/html": [
       "<div>\n",
       "<style scoped>\n",
       "    .dataframe tbody tr th:only-of-type {\n",
       "        vertical-align: middle;\n",
       "    }\n",
       "\n",
       "    .dataframe tbody tr th {\n",
       "        vertical-align: top;\n",
       "    }\n",
       "\n",
       "    .dataframe thead th {\n",
       "        text-align: right;\n",
       "    }\n",
       "</style>\n",
       "<table border=\"1\" class=\"dataframe\">\n",
       "  <thead>\n",
       "    <tr style=\"text-align: right;\">\n",
       "      <th></th>\n",
       "      <th>call_id</th>\n",
       "      <th>primary_call_reason</th>\n",
       "      <th>call_transcript</th>\n",
       "    </tr>\n",
       "  </thead>\n",
       "  <tbody>\n",
       "    <tr>\n",
       "      <th>0</th>\n",
       "      <td>4667960400</td>\n",
       "      <td>Voluntary  Cancel</td>\n",
       "      <td>\\n\\nAgent: Thank you for calling United Airlin...</td>\n",
       "    </tr>\n",
       "    <tr>\n",
       "      <th>1</th>\n",
       "      <td>1122072124</td>\n",
       "      <td>Booking</td>\n",
       "      <td>\\n\\nAgent: Thank you for calling United Airlin...</td>\n",
       "    </tr>\n",
       "    <tr>\n",
       "      <th>2</th>\n",
       "      <td>6834291559</td>\n",
       "      <td>IRROPS</td>\n",
       "      <td>\\n\\nAgent: Thank you for calling United Airlin...</td>\n",
       "    </tr>\n",
       "    <tr>\n",
       "      <th>3</th>\n",
       "      <td>2266439882</td>\n",
       "      <td>Upgrade</td>\n",
       "      <td>\\n\\nAgent: Thank you for calling United Airlin...</td>\n",
       "    </tr>\n",
       "    <tr>\n",
       "      <th>4</th>\n",
       "      <td>1211603231</td>\n",
       "      <td>Seating</td>\n",
       "      <td>\\n\\nAgent: Thank you for calling United Airlin...</td>\n",
       "    </tr>\n",
       "  </tbody>\n",
       "</table>\n",
       "</div>"
      ],
      "text/plain": [
       "      call_id primary_call_reason  \\\n",
       "0  4667960400   Voluntary  Cancel   \n",
       "1  1122072124             Booking   \n",
       "2  6834291559              IRROPS   \n",
       "3  2266439882             Upgrade   \n",
       "4  1211603231             Seating   \n",
       "\n",
       "                                     call_transcript  \n",
       "0  \\n\\nAgent: Thank you for calling United Airlin...  \n",
       "1  \\n\\nAgent: Thank you for calling United Airlin...  \n",
       "2  \\n\\nAgent: Thank you for calling United Airlin...  \n",
       "3  \\n\\nAgent: Thank you for calling United Airlin...  \n",
       "4  \\n\\nAgent: Thank you for calling United Airlin...  "
      ]
     },
     "execution_count": 8,
     "metadata": {},
     "output_type": "execute_result"
    }
   ],
   "source": [
    "columns_to_keep = ['call_id', 'primary_call_reason', 'call_transcript']  \n",
    "\n",
    "df = df2[columns_to_keep]\n",
    "\n",
    "df.head()"
   ]
  },
  {
   "cell_type": "code",
   "execution_count": 9,
   "id": "74f24d62-3d04-47b6-a4ea-2319ef4b850a",
   "metadata": {},
   "outputs": [
    {
     "data": {
      "text/plain": [
       "(66653, 3)"
      ]
     },
     "execution_count": 9,
     "metadata": {},
     "output_type": "execute_result"
    }
   ],
   "source": [
    "df.shape"
   ]
  },
  {
   "cell_type": "code",
   "execution_count": 10,
   "id": "cf440451-4cd1-4b4a-a898-2ef995f73147",
   "metadata": {},
   "outputs": [
    {
     "name": "stderr",
     "output_type": "stream",
     "text": [
      "[nltk_data] Downloading package punkt to\n",
      "[nltk_data]     C:\\Users\\vaibhav\\AppData\\Roaming\\nltk_data...\n",
      "[nltk_data]   Package punkt is already up-to-date!\n",
      "[nltk_data] Downloading package stopwords to\n",
      "[nltk_data]     C:\\Users\\vaibhav\\AppData\\Roaming\\nltk_data...\n",
      "[nltk_data]   Package stopwords is already up-to-date!\n"
     ]
    },
    {
     "data": {
      "text/plain": [
       "True"
      ]
     },
     "execution_count": 10,
     "metadata": {},
     "output_type": "execute_result"
    }
   ],
   "source": [
    "nltk.download('punkt')\n",
    "nltk.download('stopwords')"
   ]
  },
  {
   "cell_type": "code",
   "execution_count": 24,
   "id": "9078ac27-463f-4ef9-acc8-e6c82886d2dd",
   "metadata": {},
   "outputs": [
    {
     "name": "stdout",
     "output_type": "stream",
     "text": [
      "['voluntarycancel' 'booking' 'irrops' 'upgrade' 'seating' 'mileageplus'\n",
      " 'checkout' 'voluntarychange' 'postflight' 'checkin' 'othertopics'\n",
      " 'communications' 'schedulechange' 'products&services' 'digitalsupport'\n",
      " 'disability' 'unaccompaniedminor' 'baggage' 'travelerupdates' 'etc'\n",
      " 'productsandservices']\n"
     ]
    }
   ],
   "source": [
    "df.loc[:, 'primary_call_reason'] = df['primary_call_reason'].str.replace(' ', '', regex=True).str.replace('-', '', regex=True).str.lower()\n",
    "\n",
    "print(df['primary_call_reason'].unique())"
   ]
  },
  {
   "cell_type": "code",
   "execution_count": 36,
   "id": "2fb1403a-c1d1-40f0-a124-daf3c797cafa",
   "metadata": {},
   "outputs": [],
   "source": [
    "def preprocess_text(text):\n",
    "    text = text.lower()\n",
    "    \n",
    "    pattern = r'\\b\\w+\\b'\n",
    "    tokens = re.findall(pattern, text)\n",
    "\n",
    "    relevant_words = {\n",
    "        'voluntarycancel', 'booking', 'irrops', 'upgrade', 'seating', \n",
    "        'mileageplus', 'checkout', 'voluntarychange', 'postflight', \n",
    "        'checkin', 'othertopics', 'communications', 'schedulechange', \n",
    "        'products&services', 'digitalsupport', 'disability', \n",
    "        'unaccompaniedminor', 'baggage', 'travelerupdates', 'etc', \n",
    "        'productsandservices'\n",
    "    }\n",
    "\n",
    "    stop_words = set(stopwords.words('english')).union({\n",
    "        'thank', 'you', 'hello', 'hi', 'goodbye', 'thanks', 'agent', \n",
    "        'call', 'please', 'i', 'me', 'my', 'are', 'is', 'to', \n",
    "        'the', 'for', 'that', 'it', 'on', 'in', 'with', 'customer', \n",
    "        'let', 'change', 'help', 'like', 'thank', 'would', 'united', \n",
    "        'calling', 'okay', 'typing', 'get', 'next', 'work', \n",
    "        'day', 'take', 'yeah', 'need'\n",
    "    })\n",
    "\n",
    "    filtered_tokens = [word for word in tokens if word in relevant_words]\n",
    "    \n",
    "    return filtered_tokens"
   ]
  },
  {
   "cell_type": "code",
   "execution_count": 37,
   "id": "273a5080-b9ac-4d26-8dbc-2772ff764639",
   "metadata": {},
   "outputs": [
    {
     "name": "stderr",
     "output_type": "stream",
     "text": [
      "Processing Transcripts: 100%|██████████████████████████████████████████████████| 66653/66653 [00:27<00:00, 2450.81it/s]\n",
      "Finding Top Words: 100%|███████████████████████████████████████████████████████████████████████| 21/21 [00:00<?, ?it/s]"
     ]
    },
    {
     "name": "stdout",
     "output_type": "stream",
     "text": [
      "Primary Call Reason: voluntarycancel\n",
      "Top 10 Words: [('booking', 913), ('upgrade', 433), ('baggage', 85), ('etc', 65), ('seating', 39), ('mileageplus', 27), ('communications', 3)]\n",
      "\n",
      "Primary Call Reason: booking\n",
      "Top 10 Words: [('booking', 1756), ('upgrade', 496), ('baggage', 98), ('etc', 72), ('seating', 49), ('mileageplus', 17), ('communications', 4), ('checkout', 1)]\n",
      "\n",
      "Primary Call Reason: irrops\n",
      "Top 10 Words: [('booking', 6973), ('upgrade', 3137), ('baggage', 573), ('etc', 454), ('seating', 319), ('mileageplus', 92), ('communications', 12), ('checkout', 10)]\n",
      "\n",
      "Primary Call Reason: upgrade\n",
      "Top 10 Words: [('booking', 1531), ('upgrade', 786), ('baggage', 121), ('etc', 86), ('seating', 66), ('mileageplus', 16), ('communications', 4), ('checkout', 2)]\n",
      "\n",
      "Primary Call Reason: seating\n",
      "Top 10 Words: [('booking', 3337), ('upgrade', 1645), ('baggage', 286), ('etc', 213), ('seating', 171), ('mileageplus', 38), ('checkout', 5), ('communications', 4)]\n",
      "\n",
      "Primary Call Reason: mileageplus\n",
      "Top 10 Words: [('booking', 3617), ('upgrade', 1442), ('baggage', 261), ('etc', 219), ('seating', 146), ('mileageplus', 19), ('communications', 6), ('checkout', 5)]\n",
      "\n",
      "Primary Call Reason: checkout\n",
      "Top 10 Words: [('booking', 1097), ('upgrade', 385), ('baggage', 92), ('etc', 58), ('seating', 47), ('mileageplus', 15), ('communications', 2), ('checkout', 1)]\n",
      "\n",
      "Primary Call Reason: voluntarychange\n",
      "Top 10 Words: [('booking', 5961), ('upgrade', 2918), ('baggage', 497), ('etc', 369), ('seating', 246), ('mileageplus', 83), ('checkout', 9), ('communications', 4), ('checkin', 1)]\n",
      "\n",
      "Primary Call Reason: postflight\n",
      "Top 10 Words: [('booking', 2564), ('upgrade', 987), ('baggage', 209), ('etc', 137), ('seating', 85), ('mileageplus', 38), ('checkout', 5), ('communications', 4)]\n",
      "\n",
      "Primary Call Reason: checkin\n",
      "Top 10 Words: [('booking', 1109), ('upgrade', 485), ('baggage', 83), ('etc', 72), ('seating', 38), ('mileageplus', 18), ('checkout', 3), ('communications', 1)]\n",
      "\n",
      "Primary Call Reason: othertopics\n",
      "Top 10 Words: [('booking', 440), ('upgrade', 207), ('baggage', 33), ('etc', 25), ('seating', 22), ('mileageplus', 5)]\n",
      "\n",
      "Primary Call Reason: communications\n",
      "Top 10 Words: [('booking', 2212), ('upgrade', 923), ('baggage', 153), ('etc', 129), ('seating', 100), ('mileageplus', 25), ('checkout', 4), ('communications', 1)]\n",
      "\n",
      "Primary Call Reason: schedulechange\n",
      "Top 10 Words: [('booking', 375), ('upgrade', 187), ('baggage', 32), ('etc', 24), ('seating', 12), ('mileageplus', 2)]\n",
      "\n",
      "Primary Call Reason: products&services\n",
      "Top 10 Words: [('booking', 270), ('upgrade', 145), ('etc', 14), ('seating', 11), ('baggage', 6), ('communications', 1)]\n",
      "\n",
      "Primary Call Reason: digitalsupport\n",
      "Top 10 Words: [('booking', 668), ('upgrade', 285), ('baggage', 58), ('seating', 35), ('etc', 34), ('mileageplus', 14), ('checkout', 4), ('checkin', 1)]\n",
      "\n",
      "Primary Call Reason: disability\n",
      "Top 10 Words: [('booking', 227), ('upgrade', 88), ('baggage', 22), ('seating', 9), ('etc', 8), ('mileageplus', 6)]\n",
      "\n",
      "Primary Call Reason: unaccompaniedminor\n",
      "Top 10 Words: [('booking', 56), ('upgrade', 19), ('baggage', 7), ('etc', 4), ('seating', 3)]\n",
      "\n",
      "Primary Call Reason: baggage\n",
      "Top 10 Words: [('booking', 1802), ('upgrade', 561), ('baggage', 118), ('seating', 74), ('etc', 62), ('mileageplus', 14), ('communications', 2), ('checkout', 2), ('disability', 1)]\n",
      "\n",
      "Primary Call Reason: travelerupdates\n",
      "Top 10 Words: [('booking', 488), ('upgrade', 206), ('etc', 34), ('baggage', 30), ('seating', 18), ('checkout', 1), ('mileageplus', 1)]\n",
      "\n",
      "Primary Call Reason: etc\n",
      "Top 10 Words: [('booking', 615), ('upgrade', 217), ('baggage', 46), ('etc', 41), ('seating', 23), ('mileageplus', 9), ('communications', 3), ('checkout', 2)]\n",
      "\n",
      "Primary Call Reason: productsandservices\n",
      "Top 10 Words: [('booking', 1770), ('upgrade', 704), ('baggage', 132), ('etc', 93), ('seating', 72), ('mileageplus', 34), ('communications', 3), ('checkout', 3)]\n",
      "\n"
     ]
    },
    {
     "name": "stderr",
     "output_type": "stream",
     "text": [
      "\n"
     ]
    }
   ],
   "source": [
    "word_counts = {}\n",
    "\n",
    "for index, row in tqdm(df.iterrows(), total=len(df), desc=\"Processing Transcripts\"):\n",
    "    call_reason = row['primary_call_reason']\n",
    "    transcript = row['call_transcript']\n",
    "    \n",
    "    tokens = preprocess_text(transcript)\n",
    "    \n",
    "    if call_reason not in word_counts:\n",
    "        word_counts[call_reason] = Counter()\n",
    "    \n",
    "    word_counts[call_reason].update(tokens)\n",
    "\n",
    "top_words = {reason: counts.most_common(10) for reason, counts in word_counts.items()}\n",
    "\n",
    "for reason, words in tqdm(top_words.items(), desc=\"Finding Top Words\"):\n",
    "    print(f\"Primary Call Reason: {reason}\")\n",
    "    print(\"Top 10 Words:\", words)\n",
    "    print()"
   ]
  },
  {
   "cell_type": "code",
   "execution_count": 38,
   "id": "7b281fcb-c971-4c21-b155-c2753dcafa8b",
   "metadata": {},
   "outputs": [
    {
     "name": "stderr",
     "output_type": "stream",
     "text": [
      "Creating Feature Vectors: 100%|████████████████████████████████████████████████| 66653/66653 [00:27<00:00, 2419.55it/s]\n"
     ]
    },
    {
     "data": {
      "text/html": [
       "<div>\n",
       "<style scoped>\n",
       "    .dataframe tbody tr th:only-of-type {\n",
       "        vertical-align: middle;\n",
       "    }\n",
       "\n",
       "    .dataframe tbody tr th {\n",
       "        vertical-align: top;\n",
       "    }\n",
       "\n",
       "    .dataframe thead th {\n",
       "        text-align: right;\n",
       "    }\n",
       "</style>\n",
       "<table border=\"1\" class=\"dataframe\">\n",
       "  <thead>\n",
       "    <tr style=\"text-align: right;\">\n",
       "      <th></th>\n",
       "      <th>voluntarycancel</th>\n",
       "      <th>booking</th>\n",
       "      <th>irrops</th>\n",
       "      <th>upgrade</th>\n",
       "      <th>seating</th>\n",
       "      <th>mileageplus</th>\n",
       "      <th>checkout</th>\n",
       "      <th>voluntarychange</th>\n",
       "      <th>postflight</th>\n",
       "      <th>checkin</th>\n",
       "      <th>...</th>\n",
       "      <th>schedulechange</th>\n",
       "      <th>products&amp;services</th>\n",
       "      <th>digitalsupport</th>\n",
       "      <th>disability</th>\n",
       "      <th>unaccompaniedminor</th>\n",
       "      <th>baggage</th>\n",
       "      <th>travelerupdates</th>\n",
       "      <th>etc</th>\n",
       "      <th>productsandservices</th>\n",
       "      <th>primary_call_reason</th>\n",
       "    </tr>\n",
       "  </thead>\n",
       "  <tbody>\n",
       "    <tr>\n",
       "      <th>0</th>\n",
       "      <td>0</td>\n",
       "      <td>0</td>\n",
       "      <td>0</td>\n",
       "      <td>0</td>\n",
       "      <td>0</td>\n",
       "      <td>0</td>\n",
       "      <td>0</td>\n",
       "      <td>0</td>\n",
       "      <td>0</td>\n",
       "      <td>0</td>\n",
       "      <td>...</td>\n",
       "      <td>0</td>\n",
       "      <td>0</td>\n",
       "      <td>0</td>\n",
       "      <td>0</td>\n",
       "      <td>0</td>\n",
       "      <td>0</td>\n",
       "      <td>0</td>\n",
       "      <td>0</td>\n",
       "      <td>0</td>\n",
       "      <td>voluntarycancel</td>\n",
       "    </tr>\n",
       "    <tr>\n",
       "      <th>1</th>\n",
       "      <td>0</td>\n",
       "      <td>0</td>\n",
       "      <td>0</td>\n",
       "      <td>0</td>\n",
       "      <td>0</td>\n",
       "      <td>0</td>\n",
       "      <td>0</td>\n",
       "      <td>0</td>\n",
       "      <td>0</td>\n",
       "      <td>0</td>\n",
       "      <td>...</td>\n",
       "      <td>0</td>\n",
       "      <td>0</td>\n",
       "      <td>0</td>\n",
       "      <td>0</td>\n",
       "      <td>0</td>\n",
       "      <td>0</td>\n",
       "      <td>0</td>\n",
       "      <td>0</td>\n",
       "      <td>0</td>\n",
       "      <td>booking</td>\n",
       "    </tr>\n",
       "    <tr>\n",
       "      <th>2</th>\n",
       "      <td>0</td>\n",
       "      <td>0</td>\n",
       "      <td>0</td>\n",
       "      <td>0</td>\n",
       "      <td>0</td>\n",
       "      <td>0</td>\n",
       "      <td>0</td>\n",
       "      <td>0</td>\n",
       "      <td>0</td>\n",
       "      <td>0</td>\n",
       "      <td>...</td>\n",
       "      <td>0</td>\n",
       "      <td>0</td>\n",
       "      <td>0</td>\n",
       "      <td>0</td>\n",
       "      <td>0</td>\n",
       "      <td>0</td>\n",
       "      <td>0</td>\n",
       "      <td>0</td>\n",
       "      <td>0</td>\n",
       "      <td>irrops</td>\n",
       "    </tr>\n",
       "    <tr>\n",
       "      <th>3</th>\n",
       "      <td>1</td>\n",
       "      <td>1</td>\n",
       "      <td>1</td>\n",
       "      <td>1</td>\n",
       "      <td>1</td>\n",
       "      <td>1</td>\n",
       "      <td>1</td>\n",
       "      <td>1</td>\n",
       "      <td>1</td>\n",
       "      <td>1</td>\n",
       "      <td>...</td>\n",
       "      <td>1</td>\n",
       "      <td>1</td>\n",
       "      <td>1</td>\n",
       "      <td>1</td>\n",
       "      <td>1</td>\n",
       "      <td>1</td>\n",
       "      <td>1</td>\n",
       "      <td>1</td>\n",
       "      <td>1</td>\n",
       "      <td>upgrade</td>\n",
       "    </tr>\n",
       "    <tr>\n",
       "      <th>4</th>\n",
       "      <td>0</td>\n",
       "      <td>0</td>\n",
       "      <td>0</td>\n",
       "      <td>0</td>\n",
       "      <td>0</td>\n",
       "      <td>0</td>\n",
       "      <td>0</td>\n",
       "      <td>0</td>\n",
       "      <td>0</td>\n",
       "      <td>0</td>\n",
       "      <td>...</td>\n",
       "      <td>0</td>\n",
       "      <td>0</td>\n",
       "      <td>0</td>\n",
       "      <td>0</td>\n",
       "      <td>0</td>\n",
       "      <td>0</td>\n",
       "      <td>0</td>\n",
       "      <td>0</td>\n",
       "      <td>0</td>\n",
       "      <td>seating</td>\n",
       "    </tr>\n",
       "  </tbody>\n",
       "</table>\n",
       "<p>5 rows × 22 columns</p>\n",
       "</div>"
      ],
      "text/plain": [
       "   voluntarycancel  booking  irrops  upgrade  seating  mileageplus  checkout  \\\n",
       "0                0        0       0        0        0            0         0   \n",
       "1                0        0       0        0        0            0         0   \n",
       "2                0        0       0        0        0            0         0   \n",
       "3                1        1       1        1        1            1         1   \n",
       "4                0        0       0        0        0            0         0   \n",
       "\n",
       "   voluntarychange  postflight  checkin  ...  schedulechange  \\\n",
       "0                0           0        0  ...               0   \n",
       "1                0           0        0  ...               0   \n",
       "2                0           0        0  ...               0   \n",
       "3                1           1        1  ...               1   \n",
       "4                0           0        0  ...               0   \n",
       "\n",
       "   products&services  digitalsupport  disability  unaccompaniedminor  baggage  \\\n",
       "0                  0               0           0                   0        0   \n",
       "1                  0               0           0                   0        0   \n",
       "2                  0               0           0                   0        0   \n",
       "3                  1               1           1                   1        1   \n",
       "4                  0               0           0                   0        0   \n",
       "\n",
       "   travelerupdates  etc  productsandservices  primary_call_reason  \n",
       "0                0    0                    0      voluntarycancel  \n",
       "1                0    0                    0              booking  \n",
       "2                0    0                    0               irrops  \n",
       "3                1    1                    1              upgrade  \n",
       "4                0    0                    0              seating  \n",
       "\n",
       "[5 rows x 22 columns]"
      ]
     },
     "execution_count": 38,
     "metadata": {},
     "output_type": "execute_result"
    }
   ],
   "source": [
    "# created a feature vector for each transcript based on the top 10 words for each call reason\n",
    "def create_features(transcript, top_words):\n",
    "    tokens = preprocess_text(transcript)\n",
    "    features = {}\n",
    "    \n",
    "    for reason, words in top_words.items():\n",
    "        common_words = [word for word, count in words]\n",
    "        features[reason] = sum(1 for word in tokens if word in common_words)\n",
    "    \n",
    "    return features\n",
    "\n",
    "train_features = pd.DataFrame(\n",
    "    [create_features(row['call_transcript'], top_words) for index, row in tqdm(df.iterrows(), total=len(df), desc=\"Creating Feature Vectors\")]\n",
    ")\n",
    "\n",
    "# added the primary call reason as the target variable\n",
    "train_features['primary_call_reason'] = df['primary_call_reason']\n",
    "\n",
    "train_features.head()"
   ]
  },
  {
   "cell_type": "code",
   "execution_count": 43,
   "id": "b980424d-e9b9-48e9-8786-a18d1dd02750",
   "metadata": {},
   "outputs": [
    {
     "name": "stdout",
     "output_type": "stream",
     "text": [
      "Validation Accuracy: 0.21\n",
      "Classification Report on Validation Set:\n",
      "                     precision    recall  f1-score   support\n",
      "\n",
      "            baggage       0.00      0.00      0.00       604\n",
      "            booking       0.00      0.00      0.00       513\n",
      "            checkin       0.00      0.00      0.00       359\n",
      "           checkout       0.00      0.00      0.00       384\n",
      "     communications       0.00      0.00      0.00       757\n",
      "     digitalsupport       0.00      0.00      0.00       255\n",
      "         disability       0.00      0.00      0.00        86\n",
      "                etc       0.00      0.00      0.00       197\n",
      "             irrops       0.21      0.99      0.34      2763\n",
      "        mileageplus       0.00      0.00      0.00      1130\n",
      "        othertopics       0.00      0.00      0.00       174\n",
      "         postflight       0.00      0.00      0.00       848\n",
      "  products&services       0.00      0.00      0.00        86\n",
      "productsandservices       0.00      0.00      0.00       572\n",
      "     schedulechange       0.00      0.00      0.00       146\n",
      "            seating       0.00      0.00      0.00      1235\n",
      "    travelerupdates       0.00      0.00      0.00       190\n",
      " unaccompaniedminor       0.00      0.00      0.00        24\n",
      "            upgrade       0.00      0.00      0.00       553\n",
      "    voluntarycancel       0.00      0.00      0.00       334\n",
      "    voluntarychange       0.15      0.01      0.01      2121\n",
      "\n",
      "           accuracy                           0.21     13331\n",
      "          macro avg       0.02      0.05      0.02     13331\n",
      "       weighted avg       0.07      0.21      0.07     13331\n",
      "\n"
     ]
    },
    {
     "name": "stderr",
     "output_type": "stream",
     "text": [
      "C:\\python\\Lib\\site-packages\\sklearn\\metrics\\_classification.py:1531: UndefinedMetricWarning: Precision is ill-defined and being set to 0.0 in labels with no predicted samples. Use `zero_division` parameter to control this behavior.\n",
      "  _warn_prf(average, modifier, f\"{metric.capitalize()} is\", len(result))\n",
      "C:\\python\\Lib\\site-packages\\sklearn\\metrics\\_classification.py:1531: UndefinedMetricWarning: Precision is ill-defined and being set to 0.0 in labels with no predicted samples. Use `zero_division` parameter to control this behavior.\n",
      "  _warn_prf(average, modifier, f\"{metric.capitalize()} is\", len(result))\n",
      "C:\\python\\Lib\\site-packages\\sklearn\\metrics\\_classification.py:1531: UndefinedMetricWarning: Precision is ill-defined and being set to 0.0 in labels with no predicted samples. Use `zero_division` parameter to control this behavior.\n",
      "  _warn_prf(average, modifier, f\"{metric.capitalize()} is\", len(result))\n"
     ]
    }
   ],
   "source": [
    "#validation split and accuracy for logistic model\n",
    "X = train_features.drop('primary_call_reason', axis=1)\n",
    "y = train_features['primary_call_reason']\n",
    "X_train, X_val, y_train, y_val = train_test_split(X, y, test_size=0.2, random_state=42)\n",
    "\n",
    "scaler = StandardScaler()\n",
    "X_train_scaled = scaler.fit_transform(X_train)\n",
    "X_val_scaled = scaler.transform(X_val)\n",
    "\n",
    "model = LogisticRegression(max_iter=500)\n",
    "model.fit(X_train_scaled, y_train)\n",
    "\n",
    "y_pred = model.predict(X_val_scaled)\n",
    "validation_accuracy = accuracy_score(y_val, y_pred)\n",
    "\n",
    "print(f\"Validation Accuracy: {validation_accuracy:.2f}\")\n",
    "print(\"Classification Report on Validation Set:\")\n",
    "print(classification_report(y_val, y_pred))"
   ]
  },
  {
   "cell_type": "code",
   "execution_count": 50,
   "id": "c0935e9d-04cd-4368-9b5e-182d54ad77dc",
   "metadata": {},
   "outputs": [
    {
     "name": "stdout",
     "output_type": "stream",
     "text": [
      "Predictions saved to 'test_vaibhav&aryan.csv'.\n"
     ]
    },
    {
     "name": "stderr",
     "output_type": "stream",
     "text": [
      "C:\\python\\Lib\\site-packages\\sklearn\\base.py:486: UserWarning: X has feature names, but LogisticRegression was fitted without feature names\n",
      "  warnings.warn(\n",
      "C:\\Users\\vaibhav\\AppData\\Local\\Temp\\ipykernel_19068\\3001482679.py:5: SettingWithCopyWarning: \n",
      "A value is trying to be set on a copy of a slice from a DataFrame.\n",
      "Try using .loc[row_indexer,col_indexer] = value instead\n",
      "\n",
      "See the caveats in the documentation: https://pandas.pydata.org/pandas-docs/stable/user_guide/indexing.html#returning-a-view-versus-a-copy\n",
      "  test_df['primary_call_reason'] = test_predictions\n"
     ]
    }
   ],
   "source": [
    "test_features = pd.DataFrame([create_features(row['call_transcript'], top_words) for index, row in test_df.iterrows()])\n",
    "\n",
    "test_predictions = model.predict(test_features)\n",
    "\n",
    "test_df['primary_call_reason'] = test_predictions\n",
    "\n",
    "output_df = test_df[['call_id', 'primary_call_reason']]\n",
    "output_df.to_csv('test_vaibhav&aryan.csv', index=False)\n",
    "\n",
    "print(\"Predictions saved to 'test_vaibhav&aryan.csv'.\")"
   ]
  },
  {
   "cell_type": "code",
   "execution_count": null,
   "id": "b4fd2401-1d97-47a3-9bf0-52f5582ea8aa",
   "metadata": {},
   "outputs": [],
   "source": []
  }
 ],
 "metadata": {
  "kernelspec": {
   "display_name": "Python 3 (ipykernel)",
   "language": "python",
   "name": "python3"
  },
  "language_info": {
   "codemirror_mode": {
    "name": "ipython",
    "version": 3
   },
   "file_extension": ".py",
   "mimetype": "text/x-python",
   "name": "python",
   "nbconvert_exporter": "python",
   "pygments_lexer": "ipython3",
   "version": "3.11.5"
  }
 },
 "nbformat": 4,
 "nbformat_minor": 5
}
